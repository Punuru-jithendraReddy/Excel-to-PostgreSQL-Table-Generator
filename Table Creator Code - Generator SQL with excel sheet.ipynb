{
 "cells": [
  {
   "cell_type": "markdown",
   "id": "3ee47ab2",
   "metadata": {},
   "source": [
    "# Table Creator Code - Generator SQL with excel sheet"
   ]
  },
  {
   "cell_type": "markdown",
   "id": "1bd3696c",
   "metadata": {},
   "source": [
    "######  The below code takes the excel file,Name of the table as input  and it generate te required code for creating a new with all the columns"
   ]
  },
  {
   "cell_type": "code",
   "execution_count": 1,
   "id": "51f7687e",
   "metadata": {},
   "outputs": [],
   "source": [
    "import pandas as pd\n",
    "import openpyxl "
   ]
  },
  {
   "cell_type": "code",
   "execution_count": 2,
   "id": "4a1ee067",
   "metadata": {},
   "outputs": [],
   "source": [
    "# Function to map pandas dtypes to PostgreSQL types\n",
    "def map_pandas_to_postgresql(dtype):\n",
    "    if pd.api.types.is_integer_dtype(dtype):\n",
    "        return \"INTEGER\"\n",
    "    elif pd.api.types.is_float_dtype(dtype):\n",
    "        return \"REAL\"\n",
    "    elif pd.api.types.is_string_dtype(dtype):\n",
    "        return \"VARCHAR\"\n",
    "    elif pd.api.types.is_bool_dtype(dtype):\n",
    "        return \"BOOLEAN\"\n",
    "    elif pd.api.types.is_datetime64_any_dtype(dtype):\n",
    "        return \"TIMESTAMP\"\n",
    "    elif pd.api.types.is_categorical_dtype(dtype):\n",
    "        return \"VARCHAR\"\n",
    "    elif pd.api.types.is_object_dtype(dtype):\n",
    "        return \"TEXT\"\n",
    "    elif pd.api.types.is_numeric_dtype(dtype):\n",
    "        return \"NUMERIC\"\n",
    "    else:\n",
    "        return \"TEXT\"  # Default to TEXT "
   ]
  },
  {
   "cell_type": "code",
   "execution_count": 3,
   "id": "fe7255a5",
   "metadata": {},
   "outputs": [],
   "source": [
    "# Function to create SQL CREATE TABLE statement\n",
    "def create_table_sql(dataframe, table_name):\n",
    "    columns_sql = []\n",
    "    for column, dtype in dataframe.dtypes.items():\n",
    "        # Replace spaces, hyphens, parentheses, and hashtags with underscores in column names\n",
    "        fixed_column = column.replace(' ', '_').replace('-', '_').replace('(', '').replace(')', '').replace('#', '_')\n",
    "        sql_type = map_pandas_to_postgresql(dtype)\n",
    "        columns_sql.append(f'\"{fixed_column}\" {sql_type}')\n",
    "    \n",
    "    columns_sql_str = \", \\n\".join(columns_sql)\n",
    "    create_table_statement = f'CREATE TABLE \"{table_name}\" (\\n{columns_sql_str}\\n);'\n",
    "    \n",
    "    return create_table_statement"
   ]
  },
  {
   "cell_type": "markdown",
   "id": "c5a3720e",
   "metadata": {},
   "source": [
    "##### Since we cant load excel file directly into postgresql we are converting it to a csv file"
   ]
  },
  {
   "cell_type": "code",
   "execution_count": 4,
   "id": "717c5c2c",
   "metadata": {},
   "outputs": [],
   "source": [
    "def CSV_creator():\n",
    "    csv_filename = 'exported_dataframe.csv'\n",
    "    df1.columns = [col.replace(' ', '_').replace('-', '_').replace('(', '').replace(')', '').replace('#', '_') for col in df1.columns]\n",
    "    df1.to_csv(csv_filename, index=False)\n",
    "    print(f\"\\n \\n DataFrame exported to {csv_filename} with adjusted column names.\")   "
   ]
  },
  {
   "cell_type": "code",
   "execution_count": 5,
   "id": "e659bef1",
   "metadata": {},
   "outputs": [],
   "source": [
    "def get_code(path,table_name):\n",
    "    global df1\n",
    "    df1 = pd.read_excel(path,nrows = 20,engine ='openpyxl')\n",
    "    create_table_statement = create_table_sql(df1, table_name)\n",
    "    print(\"SQL CREATE TABLE statement:\\nPlease copy the below code and past in sql query tool \\n\\n \")\n",
    "    print(create_table_statement)\n",
    "    CSV_creator()"
   ]
  },
  {
   "cell_type": "markdown",
   "id": "ed2daa22",
   "metadata": {},
   "source": [
    "# >> Give the Input"
   ]
  },
  {
   "cell_type": "code",
   "execution_count": 6,
   "id": "3a4fe654",
   "metadata": {
    "scrolled": true
   },
   "outputs": [],
   "source": [
    "table_name = \"Address\" #input(\" Enter the Name of the table you want to create : \")"
   ]
  },
  {
   "cell_type": "code",
   "execution_count": 8,
   "id": "1627f445",
   "metadata": {
    "scrolled": true
   },
   "outputs": [],
   "source": [
    "path = \"address.xlsx\"#input(\"Enter the name or path of the excel file : \")"
   ]
  },
  {
   "cell_type": "code",
   "execution_count": 9,
   "id": "bdcc4120",
   "metadata": {},
   "outputs": [
    {
     "name": "stdout",
     "output_type": "stream",
     "text": [
      "SQL CREATE TABLE statement:\n",
      "Please copy the below code and past in sql query tool \n",
      "\n",
      " \n",
      "CREATE TABLE \"Address\" (\n",
      "\"address_id\" INTEGER, \n",
      "\"address\" VARCHAR, \n",
      "\"address2\" REAL, \n",
      "\"district\" VARCHAR, \n",
      "\"city_id\" INTEGER, \n",
      "\"postal_code\" REAL, \n",
      "\"phone\" REAL, \n",
      "\"last_update\" TIMESTAMP\n",
      ");\n",
      "\n",
      " \n",
      " DataFrame exported to exported_dataframe.csv with adjusted column names.\n"
     ]
    }
   ],
   "source": [
    "get_code(path,table_name)"
   ]
  }
 ],
 "metadata": {
  "kernelspec": {
   "display_name": "Python 3 (ipykernel)",
   "language": "python",
   "name": "python3"
  },
  "language_info": {
   "codemirror_mode": {
    "name": "ipython",
    "version": 3
   },
   "file_extension": ".py",
   "mimetype": "text/x-python",
   "name": "python",
   "nbconvert_exporter": "python",
   "pygments_lexer": "ipython3",
   "version": "3.10.13"
  }
 },
 "nbformat": 4,
 "nbformat_minor": 5
}
